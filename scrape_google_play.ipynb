{
  "nbformat": 4,
  "nbformat_minor": 0,
  "metadata": {
    "colab": {
      "provenance": []
    },
    "kernelspec": {
      "name": "python3",
      "display_name": "Python 3"
    },
    "language_info": {
      "name": "python"
    }
  },
  "cells": [
    {
      "cell_type": "code",
      "execution_count": null,
      "metadata": {
        "colab": {
          "base_uri": "https://localhost:8080/"
        },
        "id": "2Qw4Z8aQ5n4z",
        "outputId": "9584e36b-7afb-4368-e3bb-13535865a08d"
      },
      "outputs": [
        {
          "output_type": "stream",
          "name": "stdout",
          "text": [
            "Collecting google-play-scraper\n",
            "  Downloading google_play_scraper-1.2.7-py3-none-any.whl.metadata (50 kB)\n",
            "\u001b[?25l     \u001b[90m━━━━━━━━━━━━━━━━━━━━━━━━━━━━━━━━━━━━━━━━\u001b[0m \u001b[32m0.0/50.2 kB\u001b[0m \u001b[31m?\u001b[0m eta \u001b[36m-:--:--\u001b[0m\r\u001b[2K     \u001b[90m━━━━━━━━━━━━━━━━━━━━━━━━━━━━━━━━━━━━━━━━\u001b[0m \u001b[32m50.2/50.2 kB\u001b[0m \u001b[31m1.8 MB/s\u001b[0m eta \u001b[36m0:00:00\u001b[0m\n",
            "\u001b[?25hDownloading google_play_scraper-1.2.7-py3-none-any.whl (28 kB)\n",
            "Installing collected packages: google-play-scraper\n",
            "Successfully installed google-play-scraper-1.2.7\n"
          ]
        }
      ],
      "source": [
        "!pip install google-play-scraper"
      ]
    },
    {
      "cell_type": "code",
      "source": [
        "from google_play_scraper import Sort, reviews_all\n",
        "import pandas as pd"
      ],
      "metadata": {
        "id": "WlMO0oA25vEB"
      },
      "execution_count": null,
      "outputs": []
    },
    {
      "cell_type": "code",
      "source": [
        "from google.colab import drive\n",
        "drive.mount('/content/drive')"
      ],
      "metadata": {
        "colab": {
          "base_uri": "https://localhost:8080/"
        },
        "id": "Osv9Bn1p62tV",
        "outputId": "ed6ccc1a-9b52-45e8-d825-fc13e6b703c1"
      },
      "execution_count": null,
      "outputs": [
        {
          "output_type": "stream",
          "name": "stdout",
          "text": [
            "Drive already mounted at /content/drive; to attempt to forcibly remount, call drive.mount(\"/content/drive\", force_remount=True).\n"
          ]
        }
      ]
    },
    {
      "cell_type": "code",
      "source": [
        "scrapreview= reviews_all(\n",
        "\"app.signal.id\", #ID aplikasi\n",
        "lang=\"id\", # defaults to ‘en’\n",
        "country=\"id\", # defaults to ‘us’\n",
        "sort=Sort.MOST_RELEVANT, # defaults to Sort.MOST_RELEVANT\n",
        "filter_score_with=1 # defaults to None (means all score)\n",
        ")"
      ],
      "metadata": {
        "id": "DHB_7Unj52hH"
      },
      "execution_count": null,
      "outputs": []
    },
    {
      "cell_type": "code",
      "source": [
        "# print(scrapreview)\n",
        "app_reviews_df = pd.DataFrame(scrapreview)\n",
        "app_reviews_df.to_csv('/content/drive/MyDrive/ams/signal_samsat.csv', index=None, header=True)"
      ],
      "metadata": {
        "id": "owMFuk-J6b4G"
      },
      "execution_count": null,
      "outputs": []
    }
  ]
}